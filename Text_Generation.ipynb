{
  "nbformat": 4,
  "nbformat_minor": 0,
  "metadata": {
    "colab": {
      "name": "Text_Generation",
      "provenance": []
    },
    "kernelspec": {
      "name": "python3",
      "display_name": "Python 3"
    }
  },
  "cells": [
    {
      "cell_type": "code",
      "metadata": {
        "id": "_dGGajOQHk6h",
        "colab_type": "code",
        "colab": {}
      },
      "source": [
        "import numpy as np"
      ],
      "execution_count": null,
      "outputs": []
    },
    {
      "cell_type": "code",
      "metadata": {
        "id": "zh7ei3KvD63E",
        "colab_type": "code",
        "colab": {}
      },
      "source": [
        "data = open(\"test.txt\", \"r\")"
      ],
      "execution_count": null,
      "outputs": []
    },
    {
      "cell_type": "code",
      "metadata": {
        "id": "ZSb6ltuxGrUr",
        "colab_type": "code",
        "colab": {}
      },
      "source": [
        "text= (data.readline())"
      ],
      "execution_count": null,
      "outputs": []
    },
    {
      "cell_type": "code",
      "metadata": {
        "id": "jDzqEeXPHPlu",
        "colab_type": "code",
        "colab": {}
      },
      "source": [
        "def generateTable(data,k=4):\n",
        "    \n",
        "    T = {}\n",
        "    for i in range(len(data)-k):\n",
        "        X = data[i:i+k]\n",
        "        Y = data[i+k]\n",
        "        #print(\"X  %s and Y %s  \"%(X,Y))\n",
        "        \n",
        "        if T.get(X) is None:\n",
        "            T[X] = {}\n",
        "            T[X][Y] = 1\n",
        "        else:\n",
        "            if T[X].get(Y) is None:\n",
        "                T[X][Y] = 1\n",
        "            else:\n",
        "                T[X][Y] += 1\n",
        "    \n",
        "    return T\n"
      ],
      "execution_count": null,
      "outputs": []
    },
    {
      "cell_type": "code",
      "metadata": {
        "id": "_5bxbfxGH3uL",
        "colab_type": "code",
        "colab": {}
      },
      "source": [
        "def convertFreqIntoProb(T):     \n",
        "    for kx in T.keys():\n",
        "        s = float(sum(T[kx].values()))\n",
        "        for k in T[kx].keys():\n",
        "            T[kx][k] = T[kx][k]/s\n",
        "                \n",
        "    return T"
      ],
      "execution_count": null,
      "outputs": []
    },
    {
      "cell_type": "code",
      "metadata": {
        "id": "7CM2de-EIm1W",
        "colab_type": "code",
        "colab": {}
      },
      "source": [
        "def trainMarkovChain(text,k=4):\n",
        "    \n",
        "    T = generateTable(text,k)\n",
        "    T = convertFreqIntoProb(T)\n",
        "    \n",
        "    return T\n"
      ],
      "execution_count": null,
      "outputs": []
    },
    {
      "cell_type": "code",
      "metadata": {
        "id": "fBtgQyTBIp65",
        "colab_type": "code",
        "colab": {}
      },
      "source": [
        "model = trainMarkovChain(text)"
      ],
      "execution_count": null,
      "outputs": []
    },
    {
      "cell_type": "code",
      "metadata": {
        "id": "I4XTyRvRHgAD",
        "colab_type": "code",
        "colab": {}
      },
      "source": [
        "def sample_next(ctx,T,k):\n",
        "    ctx = ctx[-k:]\n",
        "    if T.get(ctx) is None:\n",
        "        return \" \"\n",
        "    possible_Chars = list(T[ctx].keys())\n",
        "    possible_values = list(T[ctx].values())\n",
        "    \n",
        "    #print(possible_Chars)\n",
        "    #print(possible_values)\n",
        "    \n",
        "    return np.random.choice(possible_Chars,p=possible_values)"
      ],
      "execution_count": null,
      "outputs": []
    },
    {
      "cell_type": "code",
      "metadata": {
        "id": "eKHFjVRTHcJ2",
        "colab_type": "code",
        "colab": {}
      },
      "source": [
        "def generateText(starting_sent,k=4,maxLen=1000):\n",
        "    \n",
        "    sentence = starting_sent\n",
        "    ctx = starting_sent[-k:]\n",
        "    \n",
        "    for ix in range(maxLen):\n",
        "        next_prediction = sample_next(ctx,model,k)\n",
        "        sentence += next_prediction\n",
        "        ctx = sentence[-k:]\n",
        "    return sentence"
      ],
      "execution_count": null,
      "outputs": []
    },
    {
      "cell_type": "code",
      "metadata": {
        "id": "MsmZRtZ0HV7a",
        "colab_type": "code",
        "colab": {
          "base_uri": "https://localhost:8080/",
          "height": 54
        },
        "outputId": "18a4e1cc-4d14-43b9-b1c3-3d3944a067bc"
      },
      "source": [
        "text = generateText(\"dear\",k=4,maxLen=2000)\n",
        "print(text)"
      ],
      "execution_count": null,
      "outputs": [
        {
          "output_type": "stream",
          "text": [
            "dear countrymen hanging this time, when today, I am very India Has registed to living in the Tricolor, inspiring the world's sixth largest that India Has registered years, for years of luck.These states crossed, exploited, deprived, deprived, women, on Everest tricolor flag. But in their righters we are countrymen, we army, their police to the police of our daughters were so many good rainfall those families who have increased sevents were soldiers of the leadership of luck.The country, our daughters of the country. The country, along. This time, when Everest economy. I heart to the seven seas with flower of good wishes of the eternal of the next Baisakhi is protect the service, forces spendence at the country's in their loved on the evidence. This time, when the festival of the full of the country happy and how long with sense the hills of tricolor flag, in that the Jubilee prisons of Nilakurinya grow in 12 years, for their heroes of our paramilitary for their power like of you wishes of the soldiers of massacres of Nilakurinji floods, when our help with flower and happiness, force, for all those who have series of Nilkurinya grow in the country. My dear country happiness, new constitution of our countrymen, the Tricolor flag to protect their lives the work. Today, I am very happiness. I am very well and happy and happiness. I heartily resolved its name in far-off jungles have been seas with hard work. Today the Red Fort in the new heights, our Jalianwala Bapu. Many of their rights, our soldiers of our paramilitary people spendence. Today is not in our daught a new energy. Our loved its name back My dear countrymen, we army of people spent made south, it is going this full of their lives in them a lot of their rights.The OBC Commission passed seven states crossing a consciousness, news in the House ran very well and giving the has tricolor flag by give evidence and awareness, forceful with flood reports are celebrating and kissed? Jalianwala Bagh give and awareness. I \n"
          ],
          "name": "stdout"
        }
      ]
    },
    {
      "cell_type": "code",
      "metadata": {
        "id": "WPDdLQ9Cr676",
        "colab_type": "code",
        "colab": {}
      },
      "source": [
        ""
      ],
      "execution_count": null,
      "outputs": []
    }
  ]
}